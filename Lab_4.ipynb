{
  "nbformat": 4,
  "nbformat_minor": 0,
  "metadata": {
    "colab": {
      "provenance": [],
      "include_colab_link": true
    },
    "kernelspec": {
      "name": "python3",
      "display_name": "Python 3"
    },
    "language_info": {
      "name": "python"
    }
  },
  "cells": [
    {
      "cell_type": "markdown",
      "metadata": {
        "id": "view-in-github",
        "colab_type": "text"
      },
      "source": [
        "<a href=\"https://colab.research.google.com/github/Nattanon5041/Pythonlab/blob/main/Lab_4.ipynb\" target=\"_parent\"><img src=\"https://colab.research.google.com/assets/colab-badge.svg\" alt=\"Open In Colab\"/></a>"
      ]
    },
    {
      "cell_type": "markdown",
      "source": [
        "4.1 2520 คือ ตัวเลขที่น้อยที่สุด ที่สามารถหารด้วยตัวเลขทุกตัวตั้งแต่ 1-10 จงหาจำนวนเต็มบวกที่น้อยที่สุดที่หารด้วยตัวเลขทุกตัวตั้งแต่ 1-20\n",
        "\n",
        "15 = 360360\n",
        "\n",
        "20 = 232792560\n",
        "\n",
        "ปล. ห้าม import math"
      ],
      "metadata": {
        "id": "-bpz7hteQPdz"
      }
    },
    {
      "cell_type": "code",
      "execution_count": null,
      "metadata": {
        "id": "HSZUXcF2QMVn",
        "outputId": "e66b456f-74a7-4862-f3f9-3146d3f749fa",
        "colab": {
          "base_uri": "https://localhost:8080/"
        }
      },
      "outputs": [
        {
          "output_type": "stream",
          "name": "stdout",
          "text": [
            "360360\n"
          ]
        }
      ],
      "source": [
        "input = 15\n",
        "input_d = input\n",
        "count = 0\n",
        "for i in range(input): #โอกาสที่เจอแน่ๆ\n",
        "  if i > 0:\n",
        "    input = input*i\n",
        "\n",
        "for j in range(1,input): #1-inputที่คูณทุกตัว\n",
        "  for k in range(1,input_d): #วน 1-10 หรือ 1-20 ตาม input\n",
        "    if j % k == 0: #เช็คหารตั้งแต่ 1-10 หรือ 1-20 ตาม input\n",
        "      count += 1\n",
        "      if count == input_d:#ถ้าหารครบแล้ว\n",
        "        print(j-1)\n",
        "        break\n",
        "    else:\n",
        "      count = 0#ถ้าตัวใดตัวนึงหารไม่ได้\n",
        "      break\n",
        "  if count == input_d:#ต้องออกลูปนี้ด้วย\n",
        "    break\n",
        "\n",
        "\n"
      ]
    },
    {
      "cell_type": "markdown",
      "source": [
        "4.2 จำนวนเฉพาะ (Prime Number) คือตัวเลขที่มีแต่ 1 กับตัวมันเองที่หารลงตัว โดยจำนวนเฉพาะ 6 ตัวแรกคือ 2, 3, 5, 7, 11, 13 โดยจำนวนเฉพาะตัวที่ 6 คือ 13 จงหาจำนวนเฉพาะตัวที่ 101\n",
        "\n",
        "=> 547"
      ],
      "metadata": {
        "id": "Wq1EFYHUWNOA"
      }
    },
    {
      "cell_type": "code",
      "source": [
        "input = 101\n",
        "count = 0\n",
        "for i in range(1,600):\n",
        "  if i > 1:\n",
        "    for j in range(2,i): #ตั้งแต่ 2 จนถึง i-1\n",
        "      if (i % j) == 0:\n",
        "        break\n",
        "    else:\n",
        "      count += 1\n",
        "      if count == input:\n",
        "        print(i)\n",
        "\n"
      ],
      "metadata": {
        "colab": {
          "base_uri": "https://localhost:8080/"
        },
        "id": "cpMa6Vp0Vz_L",
        "outputId": "a3e85869-aa67-49f0-c65c-1a4fce5173c8"
      },
      "execution_count": null,
      "outputs": [
        {
          "output_type": "stream",
          "name": "stdout",
          "text": [
            "547\n"
          ]
        }
      ]
    },
    {
      "cell_type": "markdown",
      "source": [
        "1.\tกำหนดให้มี List หนึ่งประกอบด้วยตัวเลขจำนวนหนึ่ง และ ให้รับตัวเลขจำนวน 1 จำนวน จากนั้นให้หาว่าใน List มีตัวเลข 2 จำนวนใดที่บวกกันเท่ากับตัวเลขที่รับมา ให้แสดงคำตอบเป็น List เช่น Output: [0,1] โดยอาจมีมากกว่า 1 คำตอบ\n",
        "\n",
        "ตัวอย่าง list : [2, 7, 11, 15]\n",
        "\n",
        "Input : 9\n",
        "\n",
        "Output : 2 + 7 = 9 (ถ้าไม่มีให้บอก None)\n"
      ],
      "metadata": {
        "id": "-pUpw-m_WqFG"
      }
    },
    {
      "cell_type": "code",
      "source": [
        "input = 9\n",
        "list_defalt = [2, 7, 11, 15]\n",
        "c = 0\n",
        "for i in list_defalt:\n",
        "  for j in list_defalt:\n",
        "    if i+j == input:\n",
        "      c += 1\n",
        "      print(i,\"+\",j,\"=\",input)\n",
        "    elif i == list_defalt[-1] and j == list_defalt[-1] and c != 2:\n",
        "      print(\"None\")\n"
      ],
      "metadata": {
        "id": "s3djwBi4ks1g",
        "colab": {
          "base_uri": "https://localhost:8080/"
        },
        "outputId": "b2c495e4-4536-4d36-a8d4-13eaf6b20194"
      },
      "execution_count": null,
      "outputs": [
        {
          "output_type": "stream",
          "name": "stdout",
          "text": [
            "2 + 7 = 9\n",
            "7 + 2 = 9\n"
          ]
        }
      ]
    },
    {
      "cell_type": "markdown",
      "source": [
        "2.\tให้เขียนโปรแกรมรับข้อมูล 1 บรรทัด ประกอบด้วยตัวเลข 1 หลัก จำนวนไม่เกิน 10 ตัว คั่นด้วยช่องว่าง จากนั้นให้นำตัวเลขที่รับเข้ามาเรียงกัน และหาลำดับการเรียงที่ทำให้มีค่าน้อยที่สุด โดยต้องไม่ขึ้นต้นด้วย 0\n",
        "\n",
        "Input : 9 4 6 2  \n",
        "\n",
        "คำตอบ 2469\n",
        "\n",
        "Input : 3 0 8 1 3 3\n",
        "\n",
        "คำตอบ : 103338\n"
      ],
      "metadata": {
        "id": "_3yLG291lSFy"
      }
    },
    {
      "cell_type": "code",
      "source": [
        "input = \"3 0 8 1 3 3\"\n",
        "input2 = []\n",
        "input2_list = []\n",
        "po = \"\"\n",
        "input = ''.join(input.replace(\" \", \"\"))\n",
        "\n",
        "for i in input:\n",
        "  if i == \"0\":\n",
        "    continue\n",
        "  else:\n",
        "    input2.append(i)\n",
        "    if po == \"0\":\n",
        "      po = \"\"\n",
        "      input2.append(\"0\")\n",
        "\n",
        "input2 = ''.join(sorted(input2))\n",
        "\n",
        "print(input,input2,po)\n",
        "\n",
        "##เหลือยัด 0 กลับที่เดิม"
      ],
      "metadata": {
        "id": "ACtXvMEyli0L",
        "colab": {
          "base_uri": "https://localhost:8080/"
        },
        "outputId": "f96b9aa3-d39e-428b-edb9-21d22305c068"
      },
      "execution_count": null,
      "outputs": [
        {
          "output_type": "stream",
          "name": "stdout",
          "text": [
            "308133 13338 \n"
          ]
        }
      ]
    },
    {
      "cell_type": "markdown",
      "source": [
        "3.\tจากตัวเลขต่อไปนี้ ตัวเลขติดกัน 4 ตัวที่เมื่อนำมาคูณกันแล้วมีค่ามากที่สุดคือ 9 × 9 × 8 × 9 = 5832\n",
        "\n",
        "73167176531330624919225119674426574742355349194934\n",
        "96983520312774506326239578318016984801869478851843\n",
        "85861560789112949495459501737958331952853208805511\n",
        "12540698747158523863050715693290963295227443043557\n",
        "66896648950445244523161731856403098711121722383113\n",
        "62229893423380308135336276614282806444486645238749\n",
        "30358907296290491560440772390713810515859307960866\n",
        "70172427121883998797908792274921901699720888093776\n",
        "65727333001053367881220235421809751254540594752243\n",
        "52584907711670556013604839586446706324415722155397\n",
        "53697817977846174064955149290862569321978468622482\n",
        "83972241375657056057490261407972968652414535100474\n",
        "82166370484403199890008895243450658541227588666881\n",
        "16427171479924442928230863465674813919123162824586\n",
        "17866458359124566529476545682848912883142607690042\n",
        "24219022671055626321111109370544217506941658960408\n",
        "07198403850962455444362981230987879927244284909188\n",
        "84580156166097919133875499200524063689912560717606\n",
        "05886116467109405077541002256983155200055935729725\n",
        "71636269561882670428252483600823257530420752963450\n",
        "\n",
        "จงหาเลขติดกัน 8 ตัวที่เมื่อนำมาคูณกันแล้วมีค่ามากที่สุด และเป็นเลขอะไร ผลคูณเท่ากับเท่าไร\n",
        "\n",
        "The maximum product is: 7838208\n",
        "The digits are: 88399879\n",
        "\n",
        "\n",
        "\n"
      ],
      "metadata": {
        "id": "Gv8aIY7dliSY"
      }
    },
    {
      "cell_type": "code",
      "source": [
        "#ต้องเก็บค่า 4 ตัวโดยใช้ค่าก่อนแรกสุด ค่ารองลงมาเรื่อยๆ\n",
        "input = \"7316717653133062491922511967442657474235534919493496983520312774506326239578318016984801869478851843858615607891129494954595017379583319528532088055111254069874715852386305071569329096329522744304355766896648950445244523161731856403098711121722383113622298934233803081353362766142828064444866452387493035890729629049156044077239071381051585930796086670172427121883998797908792274921901699720888093776657273330010533678812202354218097512545405947522435258490771167055601360483958644670632441572215539753697817977846174064955149290862569321978468622482839722413756570560574902614079729686524145351004748216637048440319989000889524345065854122758866688116427171479924442928230863465674813919123162824586178664583591245665294765456828489128831426076900422421902267105562632111110937054421750694165896040807198403850962455444362981230987879927244284909188845801561660979191338754992005240636899125607176060588611646710940507754100225698315520005593572972571636269561882670428252483600823257530420752963450\"\n",
        "\n",
        "first = second = third = fourth = fifth = sixth = seventh = eighth = 0\n",
        "cal = 0\n",
        "max = 0\n",
        "\n",
        "for i in input:\n",
        "  i = int(i)\n",
        "  eighth = seventh\n",
        "  seventh = sixth\n",
        "  sixth = fifth\n",
        "  fifth = fourth\n",
        "  fourth = third\n",
        "  third = second\n",
        "  second = first\n",
        "  first = i\n",
        "  cal = first*second*third*fourth*fifth*sixth*seventh*eighth\n",
        "  if cal > max:\n",
        "    max = cal\n",
        "print(\"The maximum product is: \",max,\" \",\"The digits are: \",eighth,seventh,sixth,fifth,fourth,third,second,first,sep=\"\")"
      ],
      "metadata": {
        "id": "wvVqGMknmBu5",
        "colab": {
          "base_uri": "https://localhost:8080/"
        },
        "outputId": "8257ddcf-1734-4d86-80f9-e89a26a01033"
      },
      "execution_count": 44,
      "outputs": [
        {
          "output_type": "stream",
          "name": "stdout",
          "text": [
            "The maximum product is: 7838208 The digits are: 52963450\n"
          ]
        }
      ]
    },
    {
      "cell_type": "markdown",
      "source": [
        "4.\tตัวเลข palindrome คือตัวเลขที่อ่านได้ทั้ง 2 ทาง แล้วมีค่าเท่ากัน เช่น 9009 โดย 9009 คือ palindrome ที่เกิดจากการคูณของตัวเลข 2 หลักที่มากที่สุด คือ 91x99 จงหา palindrome ที่มากที่สุดของตัวเลข 3 หลัก\n",
        "\n",
        "The largest palindrome product of 3-digit numbers is: 906609\n"
      ],
      "metadata": {
        "id": "fjy5LNC7m0We"
      }
    },
    {
      "cell_type": "code",
      "source": [
        "#ผลคูณมากที่สุดแล้วเลขได้เป็น palindrome\n",
        "#เช็ค palindrome\n",
        "first = 0\n",
        "second = 0\n",
        "first_txt = 0\n",
        "second_txt = 0\n",
        "cal = 0\n",
        "max = 0\n",
        "for i in range(20):\n",
        "  second = first\n",
        "  first = i\n",
        "  cal = first*second\n",
        "  cal = str(cal)\n",
        "  for j in cal:\n",
        "    second_txt = first_txt\n",
        "    first_txt = j\n",
        "    print(first,second,cal,first_txt,second_txt)\n",
        "  # if cal > max:\n",
        "  #   max = cal\n",
        "\n",
        "  # print(second,first,max)"
      ],
      "metadata": {
        "id": "y-QY3hzVmsud",
        "colab": {
          "base_uri": "https://localhost:8080/"
        },
        "outputId": "51cd7ff2-2c41-4c5d-885b-a10f3d10cd27"
      },
      "execution_count": 55,
      "outputs": [
        {
          "output_type": "stream",
          "name": "stdout",
          "text": [
            "0 0 0 0 0\n",
            "1 0 0 0 0\n",
            "2 1 2 2 0\n",
            "3 2 6 6 2\n",
            "4 3 12 1 6\n",
            "4 3 12 2 1\n",
            "5 4 20 2 2\n",
            "5 4 20 0 2\n",
            "6 5 30 3 0\n",
            "6 5 30 0 3\n",
            "7 6 42 4 0\n",
            "7 6 42 2 4\n",
            "8 7 56 5 2\n",
            "8 7 56 6 5\n",
            "9 8 72 7 6\n",
            "9 8 72 2 7\n",
            "10 9 90 9 2\n",
            "10 9 90 0 9\n",
            "11 10 110 1 0\n",
            "11 10 110 1 1\n",
            "11 10 110 0 1\n",
            "12 11 132 1 0\n",
            "12 11 132 3 1\n",
            "12 11 132 2 3\n",
            "13 12 156 1 2\n",
            "13 12 156 5 1\n",
            "13 12 156 6 5\n",
            "14 13 182 1 6\n",
            "14 13 182 8 1\n",
            "14 13 182 2 8\n",
            "15 14 210 2 2\n",
            "15 14 210 1 2\n",
            "15 14 210 0 1\n",
            "16 15 240 2 0\n",
            "16 15 240 4 2\n",
            "16 15 240 0 4\n",
            "17 16 272 2 0\n",
            "17 16 272 7 2\n",
            "17 16 272 2 7\n",
            "18 17 306 3 2\n",
            "18 17 306 0 3\n",
            "18 17 306 6 0\n",
            "19 18 342 3 6\n",
            "19 18 342 4 3\n",
            "19 18 342 2 4\n"
          ]
        }
      ]
    },
    {
      "cell_type": "markdown",
      "source": [
        "5.\tกำหนดให้ string มีเพียงสัญลักษณ์ '(', ')', '{', '}', '[' และ ']' ให้ตรวจสอบว่า String ถูกต้อง โดย เมื่อมีวงเล็บเปิด จะต้องมีวงเล็บปิดที่เป็นชนิดเดียวกัน จำนวนเท่ากันที่เป็นคู่ของมัน\n",
        "\n",
        "```\n",
        "Input: s = \"()\"\n",
        "Output: true\n",
        "Input: s = \"()[]{}\"\n",
        "Output: true\n",
        "Input: s = \"[()]{}\"\n",
        "Output: true\n",
        "Input: s = \"(]\"\n",
        "Output: false\n",
        "```\n",
        "\n",
        "\n"
      ],
      "metadata": {
        "id": "rUZvLJ-JnGJY"
      }
    },
    {
      "cell_type": "code",
      "source": [
        "input = \"([])\"\n",
        "n2 = \"\"\n",
        "n1 = \"\"\n",
        "x = len(input)\n",
        "\n",
        "# for i in s:\n",
        "#   n2 = n1\n",
        "#   n1 = i\n",
        "#   if n1 == \")\" and n2 == \"(\":\n",
        "#     print(\"true()\")\n",
        "#   elif n1 == \")\" and n2 == \"]\" or n1 == \")\" and n2 == \"}\":\n",
        "#     print(\"true()\")\n",
        "#   if n1 == \"]\" and n2 == \"[\":\n",
        "#     print(\"true[]\")\n",
        "#   elif n1 == \"]\" and n2 == \")\" or n1 == \"]\" and n2 == \"}\":\n",
        "#     print(\"true[]\")\n",
        "#   if n1 == \"}\" and n2 == \"{\":\n",
        "#     print(\"true{}\")\n",
        "#   elif n1 == \"}\" and n2 == \")\" or n1 == \"}\" and n2 == \"]\":\n",
        "#     print(\"true{}\")\n",
        "\n",
        "print(x)\n"
      ],
      "metadata": {
        "id": "Ku8ts4x7nk1y",
        "colab": {
          "base_uri": "https://localhost:8080/",
          "height": 211
        },
        "outputId": "a4cd8531-a0f6-4453-ee83-d887ae3e0485"
      },
      "execution_count": 94,
      "outputs": [
        {
          "output_type": "error",
          "ename": "TypeError",
          "evalue": "'int' object is not callable",
          "traceback": [
            "\u001b[0;31m---------------------------------------------------------------------------\u001b[0m",
            "\u001b[0;31mTypeError\u001b[0m                                 Traceback (most recent call last)",
            "\u001b[0;32m<ipython-input-94-0884ba001c5c>\u001b[0m in \u001b[0;36m<cell line: 4>\u001b[0;34m()\u001b[0m\n\u001b[1;32m      2\u001b[0m \u001b[0mn2\u001b[0m \u001b[0;34m=\u001b[0m \u001b[0;34m\"\"\u001b[0m\u001b[0;34m\u001b[0m\u001b[0;34m\u001b[0m\u001b[0m\n\u001b[1;32m      3\u001b[0m \u001b[0mn1\u001b[0m \u001b[0;34m=\u001b[0m \u001b[0;34m\"\"\u001b[0m\u001b[0;34m\u001b[0m\u001b[0;34m\u001b[0m\u001b[0m\n\u001b[0;32m----> 4\u001b[0;31m \u001b[0mx\u001b[0m \u001b[0;34m=\u001b[0m \u001b[0mlen\u001b[0m\u001b[0;34m(\u001b[0m\u001b[0minput\u001b[0m\u001b[0;34m)\u001b[0m\u001b[0;34m\u001b[0m\u001b[0;34m\u001b[0m\u001b[0m\n\u001b[0m\u001b[1;32m      5\u001b[0m \u001b[0;34m\u001b[0m\u001b[0m\n\u001b[1;32m      6\u001b[0m \u001b[0;31m# for i in s:\u001b[0m\u001b[0;34m\u001b[0m\u001b[0;34m\u001b[0m\u001b[0m\n",
            "\u001b[0;31mTypeError\u001b[0m: 'int' object is not callable"
          ]
        }
      ]
    },
    {
      "cell_type": "markdown",
      "source": [],
      "metadata": {
        "id": "MWPtqJj7n8YR"
      }
    },
    {
      "cell_type": "markdown",
      "source": [
        "6.\tกำหนดให้รับข้อมูล Integer (เป็นบวกหรือลบก็ได้) จากนั้นให้แสดงผลลัพธ์ที่ reverse ตัวเลขตามตัวอย่าง\n",
        "\n",
        "```\n",
        "Input: x = 123\n",
        "Output: 321\n",
        "Input: x = -123\n",
        "Output: -321\n",
        "Input: x = 120\n",
        "Output: 21\n",
        "```\n",
        "\n"
      ],
      "metadata": {
        "id": "PLL9Wdqqnx7o"
      }
    },
    {
      "cell_type": "code",
      "source": [
        "input_str = \"-321\"\n",
        "check = [\"0\",\"1\",\"2\",\"3\",\"4\",\"5\",\"6\",\"7\",\"8\",\"9\",\"-\"]\n",
        "for k in input_str:\n",
        "  if k not in check:\n",
        "    print(\"Error\")\n",
        "    break\n",
        "else:\n",
        "  input_int = int(input_str)\n",
        "  list_input = list(input_str)\n",
        "  input_len = len(input_str)\n",
        "\n",
        "  if input_str == \"0\" or input_str == \"-0\":\n",
        "    print(\"0\")\n",
        "  else:\n",
        "    if input == 0 or type(input_int) != int:\n",
        "      print(\"Error\")\n",
        "    else:\n",
        "      b = \"\"\n",
        "      a = \"\"\n",
        "      k = 0\n",
        "      list_new = []\n",
        "      str1 = \"\"\n",
        "      for i in list_input:\n",
        "        k += 1\n",
        "        if i == \"-\":\n",
        "          a = \"-\"\n",
        "          continue\n",
        "        if i == \"0\" and i == list_input[-1] and k == input_len:\n",
        "          continue\n",
        "        else:\n",
        "          list_new.append(i)\n",
        "      if a == \"-\":\n",
        "        list_new.append(a)\n",
        "      list_new = list_new[::-1]\n",
        "\n",
        "      if list_new[-1] == \"0\":\n",
        "        list_new[-1] = b\n",
        "\n",
        "      for text in list_new:\n",
        "        str1 += text\n",
        "      print(str1)"
      ],
      "metadata": {
        "id": "V19J292Jn_SG",
        "outputId": "838d526c-20c5-45bf-c888-3b1a4af2fcac",
        "colab": {
          "base_uri": "https://localhost:8080/"
        }
      },
      "execution_count": null,
      "outputs": [
        {
          "output_type": "stream",
          "name": "stdout",
          "text": [
            "-123\n"
          ]
        }
      ]
    },
    {
      "cell_type": "markdown",
      "source": [
        "7.\tเขียนโปรแกรมเพื่อแสดงปิรามิดบนจอภาพ โดยแสดงเป็นรูปสี่เหลี่ยม ตัวเลขเริ่มจาก 0  และเพิ่มค่าตามลําดับจํานวนขั้น จาก 0 ถึง N (รับค่า N จากคีย์บอร์ด) ค่าของ N อยู่ระหว่าง 0-9 ดังตัวอย่าง\n",
        "\n",
        "\n",
        "```\n",
        "\t\t\t\t\t\t\t\t\t         0000000\n",
        "\t\t\t\t\t\t\t    00000\t\t0111110\n",
        "\t\t\t\t\t000\t\t 01110\t\t0122210\n",
        "\t\t\t0\t\t010\t\t01210\t\t0123210\n",
        "\t\t\t\t\t000\t\t 01110\t\t0122210\n",
        "\t\t\t\t\t\t\t    00000\t\t0111110\n",
        "\t\t\t\t\t\t\t\t\t         0000000\n",
        "\n",
        "\t\t\tn=0\t\tn=1\t\tn=2\t\tn=3\n",
        "\n",
        "```\n",
        "\n"
      ],
      "metadata": {
        "id": "KboD6c8rn52a"
      }
    },
    {
      "cell_type": "code",
      "source": [],
      "metadata": {
        "id": "sGhw6Iyfobiz"
      },
      "execution_count": null,
      "outputs": []
    },
    {
      "cell_type": "markdown",
      "source": [
        "8.\tเขียนโปรแกรมเพื่อแสดงปิรามิดบนจอภาพ โดยแสดงเป็นรูปสี่เหลี่ยม ตัวเลขเริ่มจาก 0  และเพิ่มค่าตามลําดับจํานวนขั้น จาก 0 ถึง N (รับค่า N จากคีย์บอร์ด) กําหนดให้จุดศูนย์กลางของรูปสี่เหลี่ยมอยู่ที่แถว 13 คอลัมน์ 40 ของจอภาพค่าของ N อยู่ระหว่าง 0-9 ดังตัวอย่าง\n",
        "\n",
        "\n",
        "\n",
        "```\n",
        "\t\t\t\t\t\t\t\t\t            0\n",
        "\t\t\t\t\t\t\t      0\t\t    010\n",
        "\t\t\t\t\t  0\t\t  010\t\t  01210\n",
        "\t\t\t0\t\t010\t\t01210\t\t0123210\n",
        "\t\t\t\t\t  0\t\t  010\t\t  01210\n",
        "\t\t\t\t\t\t\t      0\t\t    010\n",
        "\t\t\t\t\t\t\t\t\t            0\n",
        "\n",
        "\t\t\tn=0\t\tn=1\t\tn=2\t\tn=3\n",
        "\n",
        "```\n",
        "\n"
      ],
      "metadata": {
        "id": "ecRYU6Lkob6Q"
      }
    },
    {
      "cell_type": "code",
      "source": [],
      "metadata": {
        "id": "gWWrLz0koHpI"
      },
      "execution_count": 55,
      "outputs": []
    },
    {
      "cell_type": "markdown",
      "source": [
        "9.\tให้เขียนโปรแกรมสร้างรูปสามเหลี่ยมที่วางซ้อนกัน 3 รูป โดยแต่ละรูปสร้างมาจากเครื่องหมาย \"*\" โดยกําหนดให้รับตัวเลขระดับของสามเหลี่ยมจากคีย์บอร์ด จากตัวอย่างข้างล่างนี้เป็นรูปสามเหลี่ยมระดับที่ 3 และ 4\n",
        "\n",
        "\n",
        "\n",
        "```\n",
        "              *\n",
        "\t\t     ***\n",
        "\t\t    *****\n",
        "\t\t   *     *\n",
        "\t      ***   ***\n",
        "\t     ***** *****\n",
        "\n",
        "  \t\t    *\n",
        "\t  \t   ***\n",
        "\t\t    *****\n",
        "\t\t   *******\n",
        "\t      *       *\n",
        "\t     ***     ***\n",
        "\t    *****   *****\n",
        "\t   ******* *******\n",
        "\n",
        "```\n",
        "\n"
      ],
      "metadata": {
        "id": "Po50A-Kuo5t4"
      }
    },
    {
      "cell_type": "code",
      "source": [],
      "metadata": {
        "id": "S8B4ELmX8L1t"
      },
      "execution_count": null,
      "outputs": []
    }
  ]
}